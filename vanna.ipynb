{
 "cells": [
  {
   "cell_type": "code",
   "execution_count": 9,
   "metadata": {},
   "outputs": [],
   "source": [
    "import vanna as vn\n",
    "from vanna.remote import VannaDefault\n",
    "vn = VannaDefault(model='elie', api_key='02d3fb738a4c42de8b2ca3ec356450c0')\n",
    "# Remplacez par vos informations de connexion\n",
    "import os\n",
    "from dotenv import load_dotenv\n",
    "\n",
    "load_dotenv()\n",
    "\n",
    "odbc_conn_str = f\"\"\"DRIVER={{ODBC Driver 17 for SQL Server}};SERVER={os.getenv('DB_SERVER')};DATABASE={os.getenv('DB_DATABASE')};UID={os.getenv('DB_USER')};PWD={os.getenv('DB_PASSWORD')};TrustServerCertificate={os.getenv('DB_TRUST_SERVER_CERTIFICATE')}\"\"\"\n",
    "\n",
    "vn.connect_to_mssql(odbc_conn_str=odbc_conn_str)\n"
   ]
  },
  {
   "cell_type": "code",
   "execution_count": 10,
   "metadata": {},
   "outputs": [
    {
     "name": "stdout",
     "output_type": "stream",
     "text": [
      "       TABLE_CATALOG TABLE_SCHEMA              TABLE_NAME         COLUMN_NAME  \\\n",
      "0     3E_80_Commande          dbo  Mahn_Mahnbestandposten                  ID   \n",
      "1     3E_80_Commande          dbo  Mahn_Mahnbestandposten          MahnlaufID   \n",
      "2     3E_80_Commande          dbo  Mahn_Mahnbestandposten       MahnbestandID   \n",
      "3     3E_80_Commande          dbo  Mahn_Mahnbestandposten          Mahnsperre   \n",
      "4     3E_80_Commande          dbo  Mahn_Mahnbestandposten  MahnDatumBisSperre   \n",
      "...              ...          ...                     ...                 ...   \n",
      "5832  3E_80_Commande          dbo            D_Produktion             Element   \n",
      "5833  3E_80_Commande          dbo            D_Produktion             Fluegel   \n",
      "5834  3E_80_Commande          dbo            D_Produktion              Nummer   \n",
      "5835  3E_80_Commande          dbo            D_Produktion               Wagen   \n",
      "5836  3E_80_Commande          dbo            D_Produktion                Fach   \n",
      "\n",
      "      ORDINAL_POSITION COLUMN_DEFAULT IS_NULLABLE DATA_TYPE  \\\n",
      "0                    1           None          NO  nvarchar   \n",
      "1                    2           None         YES  nvarchar   \n",
      "2                    3           None         YES  nvarchar   \n",
      "3                    4           None         YES  nvarchar   \n",
      "4                    5           None         YES  datetime   \n",
      "...                ...            ...         ...       ...   \n",
      "5832                 5           None          NO  smallint   \n",
      "5833                 6           None          NO  smallint   \n",
      "5834                 7           None          NO  smallint   \n",
      "5835                 8           None         YES  smallint   \n",
      "5836                 9           None         YES  smallint   \n",
      "\n",
      "      CHARACTER_MAXIMUM_LENGTH  CHARACTER_OCTET_LENGTH  ...  \\\n",
      "0                         32.0                    64.0  ...   \n",
      "1                         32.0                    64.0  ...   \n",
      "2                         32.0                    64.0  ...   \n",
      "3                         15.0                    30.0  ...   \n",
      "4                          NaN                     NaN  ...   \n",
      "...                        ...                     ...  ...   \n",
      "5832                       NaN                     NaN  ...   \n",
      "5833                       NaN                     NaN  ...   \n",
      "5834                       NaN                     NaN  ...   \n",
      "5835                       NaN                     NaN  ...   \n",
      "5836                       NaN                     NaN  ...   \n",
      "\n",
      "      DATETIME_PRECISION  CHARACTER_SET_CATALOG  CHARACTER_SET_SCHEMA  \\\n",
      "0                    NaN                   None                  None   \n",
      "1                    NaN                   None                  None   \n",
      "2                    NaN                   None                  None   \n",
      "3                    NaN                   None                  None   \n",
      "4                    3.0                   None                  None   \n",
      "...                  ...                    ...                   ...   \n",
      "5832                 NaN                   None                  None   \n",
      "5833                 NaN                   None                  None   \n",
      "5834                 NaN                   None                  None   \n",
      "5835                 NaN                   None                  None   \n",
      "5836                 NaN                   None                  None   \n",
      "\n",
      "      CHARACTER_SET_NAME COLLATION_CATALOG COLLATION_SCHEMA COLLATION_NAME  \\\n",
      "0                UNICODE              None             None   French_CI_AS   \n",
      "1                UNICODE              None             None   French_CI_AS   \n",
      "2                UNICODE              None             None   French_CI_AS   \n",
      "3                UNICODE              None             None   French_CI_AS   \n",
      "4                   None              None             None           None   \n",
      "...                  ...               ...              ...            ...   \n",
      "5832                None              None             None           None   \n",
      "5833                None              None             None           None   \n",
      "5834                None              None             None           None   \n",
      "5835                None              None             None           None   \n",
      "5836                None              None             None           None   \n",
      "\n",
      "     DOMAIN_CATALOG DOMAIN_SCHEMA DOMAIN_NAME  \n",
      "0              None          None        None  \n",
      "1              None          None        None  \n",
      "2              None          None        None  \n",
      "3              None          None        None  \n",
      "4              None          None        None  \n",
      "...             ...           ...         ...  \n",
      "5832           None          None        None  \n",
      "5833           None          None        None  \n",
      "5834           None          None        None  \n",
      "5835           None          None        None  \n",
      "5836           None          None        None  \n",
      "\n",
      "[5837 rows x 23 columns]\n",
      "<class 'pandas.core.frame.DataFrame'>\n"
     ]
    }
   ],
   "source": [
    "response = vn.run_sql(\"SELECT * FROM INFORMATION_SCHEMA.COLUMNS\")\n",
    "print(response)  # Afficher la réponse brute\n",
    "print(type(response))  # Pour voir si c'est bien un objet contenant du JSON\n",
    "\n"
   ]
  },
  {
   "cell_type": "code",
   "execution_count": 11,
   "metadata": {},
   "outputs": [
    {
     "name": "stdout",
     "output_type": "stream",
     "text": [
      "Train on Information Schema: 3E_80_Commande.dbo A_Kopf\n",
      "Train on Information Schema: 3E_80_Commande.dbo A_Vorgang\n",
      "Train on Information Schema: 3E_80_Commande.dbo P_Kaufm\n",
      "Train on Information Schema: 3E_80_Commande.dbo P_Teil\n",
      "Train on Information Schema: 3E_80_Commande.dbo P_Zubeh\n"
     ]
    },
    {
     "data": {
      "text/plain": [
       "'231059eb7471f2eb0bfde438d3913cb8-sql'"
      ]
     },
     "execution_count": 11,
     "metadata": {},
     "output_type": "execute_result"
    }
   ],
   "source": [
    "# Récupérer les métadonnées du schéma\n",
    "df_information_schema = vn.run_sql(\"SELECT * FROM INFORMATION_SCHEMA.COLUMNS WHERE TABLE_NAME IN ('P_Zubeh', 'A_Kopf', 'P_Kaufm', 'A_Vorgang', 'P_Teil')\")\n",
    "\n",
    "\n",
    "\n",
    "# Générer le plan d'entraînement\n",
    "plan = vn.get_training_plan_generic(df_information_schema)\n",
    "print(plan)\n",
    "\n",
    "# Entraîner le modèle\n",
    "vn.train(plan=plan)\n",
    "\n",
    "vn.train(\n",
    "    question=\"liste moi les 10 dernieres commandes ?\", \n",
    "    sql=\"\"\"SELECT TOP 10 * \n",
    "        FROM A_kopf\n",
    "        INNER JOIN dbo.A_Vorgang AS DateSerie ON DateSerie.ID_A_Kopf = Paramgen.ID_A_Kopf\n",
    "        WHERE DateSerie.Nummer = '_Cde en série'\n",
    "        ORDER BY DateSerie.Datum DESC\"\"\"\n",
    ")\n"
   ]
  },
  {
   "cell_type": "code",
   "execution_count": 12,
   "metadata": {},
   "outputs": [
    {
     "name": "stdout",
     "output_type": "stream",
     "text": [
      "['__abstractmethods__', '__class__', '__delattr__', '__dict__', '__dir__', '__doc__', '__eq__', '__firstlineno__', '__format__', '__ge__', '__getattribute__', '__getstate__', '__gt__', '__hash__', '__init__', '__init_subclass__', '__le__', '__lt__', '__module__', '__ne__', '__new__', '__reduce__', '__reduce_ex__', '__repr__', '__setattr__', '__sizeof__', '__slots__', '__static_attributes__', '__str__', '__subclasshook__', '__weakref__', '_abc_impl', '_api_key', '_dataclass_to_dict', '_endpoint', '_extract_python_code', '_get_databases', '_get_information_schema_tables', '_graphql_endpoint', '_graphql_headers', '_model', '_response_language', '_rpc_call', '_sanitize_plotly_code', 'add_ddl', 'add_ddl_to_prompt', 'add_documentation', 'add_documentation_to_prompt', 'add_question_sql', 'add_sql_to_prompt', 'ask', 'assistant_message', 'config', 'connect_to_bigquery', 'connect_to_clickhouse', 'connect_to_duckdb', 'connect_to_hive', 'connect_to_mssql', 'connect_to_mysql', 'connect_to_oracle', 'connect_to_postgres', 'connect_to_presto', 'connect_to_snowflake', 'connect_to_sqlite', 'create_function', 'create_model', 'delete_function', 'dialect', 'extract_sql', 'generate_embedding', 'generate_followup_questions', 'generate_plotly_code', 'generate_question', 'generate_questions', 'generate_rewritten_question', 'generate_sql', 'generate_summary', 'get_all_functions', 'get_followup_questions_prompt', 'get_function', 'get_models', 'get_plotly_figure', 'get_related_ddl', 'get_related_documentation', 'get_related_training_data_cached', 'get_similar_question_sql', 'get_sql_prompt', 'get_training_data', 'get_training_plan_generic', 'get_training_plan_snowflake', 'is_sql_valid', 'language', 'log', 'max_tokens', 'related_training_data', 'remove_training_data', 'run_sql', 'run_sql_is_set', 'should_generate_chart', 'static_documentation', 'str_to_approx_token_count', 'submit_prompt', 'system_message', 'train', 'update_function', 'user_message']\n"
     ]
    }
   ],
   "source": [
    "print(dir(vn))\n",
    "\n"
   ]
  },
  {
   "cell_type": "code",
   "execution_count": 13,
   "metadata": {},
   "outputs": [
    {
     "name": "stdout",
     "output_type": "stream",
     "text": [
      "SQL Prompt: [{'role': 'system', 'content': \"You are a T-SQL / Microsoft SQL Server expert. Please help to generate a SQL query to answer the question. Your response should ONLY be based on the given context and follow the response guidelines and format instructions. \\n===Additional Context \\n\\nThe following columns are in the Vue_Facture_Jour table in the 3E_80_Commande database:\\n\\n|     | TABLE_CATALOG   | TABLE_SCHEMA   | TABLE_NAME       | COLUMN_NAME        | DATA_TYPE   |\\n|----:|:----------------|:---------------|:-----------------|:-------------------|:------------|\\n| 619 | 3E_80_Commande  | dbo            | Vue_Facture_Jour | N° Facture         | int         |\\n| 620 | 3E_80_Commande  | dbo            | Vue_Facture_Jour | Type Affaire       | smallint    |\\n| 621 | 3E_80_Commande  | dbo            | Vue_Facture_Jour | Type Facture       | smallint    |\\n| 622 | 3E_80_Commande  | dbo            | Vue_Facture_Jour | Date Facture       | datetime    |\\n| 623 | 3E_80_Commande  | dbo            | Vue_Facture_Jour | Date Echeance      | datetime    |\\n| 624 | 3E_80_Commande  | dbo            | Vue_Facture_Jour | Total HT           | float       |\\n| 625 | 3E_80_Commande  | dbo            | Vue_Facture_Jour | TVA                | float       |\\n| 626 | 3E_80_Commande  | dbo            | Vue_Facture_Jour | Total TTC          | float       |\\n| 627 | 3E_80_Commande  | dbo            | Vue_Facture_Jour | Export Compta      | int         |\\n| 628 | 3E_80_Commande  | dbo            | Vue_Facture_Jour | N° Commande        | int         |\\n| 629 | 3E_80_Commande  | dbo            | Vue_Facture_Jour | Extension          | nvarchar    |\\n| 630 | 3E_80_Commande  | dbo            | Vue_Facture_Jour | Date Commande      | datetime    |\\n| 631 | 3E_80_Commande  | dbo            | Vue_Facture_Jour | Affaire            | nvarchar    |\\n| 632 | 3E_80_Commande  | dbo            | Vue_Facture_Jour | Condition Paiement | nvarchar    |\\n| 633 | 3E_80_Commande  | dbo            | Vue_Facture_Jour | Mode Paiement      | nvarchar    |\\n| 634 | 3E_80_Commande  | dbo            | Vue_Facture_Jour | N° Client          | nvarchar    |\\n| 635 | 3E_80_Commande  | dbo            | Vue_Facture_Jour | Code Client Ext    | nvarchar    |\\n| 636 | 3E_80_Commande  | dbo            | Vue_Facture_Jour | Entreprise         | nvarchar    |\\n| 637 | 3E_80_Commande  | dbo            | Vue_Facture_Jour | Rue                | nvarchar    |\\n| 638 | 3E_80_Commande  | dbo            | Vue_Facture_Jour | CP                 | nvarchar    |\\n| 639 | 3E_80_Commande  | dbo            | Vue_Facture_Jour | Ville              | nvarchar    |\\n\\nThe following columns are in the NB_Auftrag table in the 3E_80_Commande database:\\n\\n|     | TABLE_CATALOG   | TABLE_SCHEMA   | TABLE_NAME   | COLUMN_NAME   | DATA_TYPE   |\\n|----:|:----------------|:---------------|:-------------|:--------------|:------------|\\n| 401 | 3E_80_Commande  | dbo            | NB_Auftrag   | AuftragsNr    | nvarchar    |\\n| 402 | 3E_80_Commande  | dbo            | NB_Auftrag   | AuftragsRefID | nvarchar    |\\n| 403 | 3E_80_Commande  | dbo            | NB_Auftrag   | Geschlossen   | bit         |\\n\\nThe following columns are in the D_BeladeListe table in the 3E_80_Commande database:\\n\\n|     | TABLE_CATALOG   | TABLE_SCHEMA   | TABLE_NAME    | COLUMN_NAME         | DATA_TYPE   |\\n|----:|:----------------|:---------------|:--------------|:--------------------|:------------|\\n| 755 | 3E_80_Commande  | dbo            | D_BeladeListe | ID                  | nvarchar    |\\n| 756 | 3E_80_Commande  | dbo            | D_BeladeListe | ArtErstellung       | smallint    |\\n| 757 | 3E_80_Commande  | dbo            | D_BeladeListe | Produktionsreferenz | int         |\\n| 758 | 3E_80_Commande  | dbo            | D_BeladeListe | Referenzerweiterung | nvarchar    |\\n| 759 | 3E_80_Commande  | dbo            | D_BeladeListe | Kennung             | nvarchar    |\\n| 760 | 3E_80_Commande  | dbo            | D_BeladeListe | ErstellDatum        | datetime    |\\n| 761 | 3E_80_Commande  | dbo            | D_BeladeListe | Status              | smallint    |\\n| 762 | 3E_80_Commande  | dbo            | D_BeladeListe | Lieferdatum         | nvarchar    |\\n\\nThe following columns are in the Vue_Clients_Nb-Cdes_par_Année table in the 3E_80_Commande database:\\n\\n|     | TABLE_CATALOG   | TABLE_SCHEMA   | TABLE_NAME                    | COLUMN_NAME      | DATA_TYPE   |\\n|----:|:----------------|:---------------|:------------------------------|:-----------------|:------------|\\n| 593 | 3E_80_Commande  | dbo            | Vue_Clients_Nb-Cdes_par_Année | Num Client       | nvarchar    |\\n| 594 | 3E_80_Commande  | dbo            | Vue_Clients_Nb-Cdes_par_Année | Entreprise       | nvarchar    |\\n| 595 | 3E_80_Commande  | dbo            | Vue_Clients_Nb-Cdes_par_Année | Nom              | nvarchar    |\\n| 596 | 3E_80_Commande  | dbo            | Vue_Clients_Nb-Cdes_par_Année | Chargé Clientèle | nvarchar    |\\n| 597 | 3E_80_Commande  | dbo            | Vue_Clients_Nb-Cdes_par_Année | CP               | nvarchar    |\\n| 598 | 3E_80_Commande  | dbo            | Vue_Clients_Nb-Cdes_par_Année | Ville            | nvarchar    |\\n| 599 | 3E_80_Commande  | dbo            | Vue_Clients_Nb-Cdes_par_Année | Mail             | nvarchar    |\\n| 600 | 3E_80_Commande  | dbo            | Vue_Clients_Nb-Cdes_par_Année | Tél              | nvarchar    |\\n| 601 | 3E_80_Commande  | dbo            | Vue_Clients_Nb-Cdes_par_Année | Nbr_Cde          | int         |\\n| 602 | 3E_80_Commande  | dbo            | Vue_Clients_Nb-Cdes_par_Année | Annee            | int         |\\n| 603 | 3E_80_Commande  | dbo            | Vue_Clients_Nb-Cdes_par_Année | Mois             | int         |\\n\\nThe following columns are in the A_Titel table in the 3E_80_Commande database:\\n\\n|    | TABLE_CATALOG   | TABLE_SCHEMA   | TABLE_NAME   | COLUMN_NAME   | DATA_TYPE   |\\n|---:|:----------------|:---------------|:-------------|:--------------|:------------|\\n| 48 | 3E_80_Commande  | dbo            | A_Titel      | ID_A_Kopf     | nvarchar    |\\n| 49 | 3E_80_Commande  | dbo            | A_Titel      | Code          | nvarchar    |\\n| 50 | 3E_80_Commande  | dbo            | A_Titel      | Bezeichnung   | nvarchar    |\\n| 51 | 3E_80_Commande  | dbo            | A_Titel      | PILanguage    | nvarchar    |\\n| 52 | 3E_80_Commande  | dbo            | A_Titel      | Reihenfolge   | int         |\\n\\nThe following columns are in the B_Masterinfo table in the 3E_80_Commande database:\\n\\n|     | TABLE_CATALOG   | TABLE_SCHEMA   | TABLE_NAME   | COLUMN_NAME   | DATA_TYPE   |\\n|----:|:----------------|:---------------|:-------------|:--------------|:------------|\\n| 342 | 3E_80_Commande  | dbo            | B_Masterinfo | Kennung       | smallint    |\\n| 343 | 3E_80_Commande  | dbo            | B_Masterinfo | DatenbankTyp  | tinyint     |\\n| 344 | 3E_80_Commande  | dbo            | B_Masterinfo | Versionsstand | nvarchar    |\\n\\nThe following columns are in the D_AN_VORSCHAU table in the 3E_80_Commande database:\\n\\n|     | TABLE_CATALOG   | TABLE_SCHEMA   | TABLE_NAME    | COLUMN_NAME   | DATA_TYPE   |\\n|----:|:----------------|:---------------|:--------------|:--------------|:------------|\\n| 653 | 3E_80_Commande  | dbo            | D_AN_VORSCHAU | Nummer        | int         |\\n| 654 | 3E_80_Commande  | dbo            | D_AN_VORSCHAU | Name          | nvarchar    |\\n| 655 | 3E_80_Commande  | dbo            | D_AN_VORSCHAU | Benutzer      | nvarchar    |\\n| 656 | 3E_80_Commande  | dbo            | D_AN_VORSCHAU | Datum         | nvarchar    |\\n| 657 | 3E_80_Commande  | dbo            | D_AN_VORSCHAU | Uhrzeit       | nvarchar    |\\n| 658 | 3E_80_Commande  | dbo            | D_AN_VORSCHAU | Daten         | nvarchar    |\\n\\nThe following columns are in the NB_Journal table in the 3E_80_Commande database:\\n\\n|     | TABLE_CATALOG   | TABLE_SCHEMA   | TABLE_NAME   | COLUMN_NAME   | DATA_TYPE   |\\n|----:|:----------------|:---------------|:-------------|:--------------|:------------|\\n| 604 | 3E_80_Commande  | dbo            | NB_Journal   | ID            | nvarchar    |\\n| 605 | 3E_80_Commande  | dbo            | NB_Journal   | JournalTyp    | smallint    |\\n| 606 | 3E_80_Commande  | dbo            | NB_Journal   | JournalDef    | nvarchar    |\\n| 607 | 3E_80_Commande  | dbo            | NB_Journal   | JournalNr     | nvarchar    |\\n| 608 | 3E_80_Commande  | dbo            | NB_Journal   | Status        | smallint    |\\n| 609 | 3E_80_Commande  | dbo            | NB_Journal   | Referenztyp   | smallint    |\\n| 610 | 3E_80_Commande  | dbo            | NB_Journal   | ReferenzID    | nvarchar    |\\n| 611 | 3E_80_Commande  | dbo            | NB_Journal   | VerwendetAm   | datetime    |\\n| 612 | 3E_80_Commande  | dbo            | NB_Journal   | VerwendetVon  | nvarchar    |\\n| 613 | 3E_80_Commande  | dbo            | NB_Journal   | SystemSperre  | bit         |\\n| 614 | 3E_80_Commande  | dbo            | NB_Journal   | AnzPositionen | smallint    |\\n\\nThe following columns are in the D_Ruesten table in the 3E_80_Commande database:\\n\\n|     | TABLE_CATALOG   | TABLE_SCHEMA   | TABLE_NAME   | COLUMN_NAME    | DATA_TYPE   |\\n|----:|:----------------|:---------------|:-------------|:---------------|:------------|\\n| 171 | 3E_80_Commande  | dbo            | D_Ruesten    | SerieNr        | int         |\\n| 172 | 3E_80_Commande  | dbo            | D_Ruesten    | Linie          | nvarchar    |\\n| 173 | 3E_80_Commande  | dbo            | D_Ruesten    | ArbGruppe      | nvarchar    |\\n| 174 | 3E_80_Commande  | dbo            | D_Ruesten    | Lager          | nvarchar    |\\n| 175 | 3E_80_Commande  | dbo            | D_Ruesten    | Lagerplatz     | nvarchar    |\\n| 176 | 3E_80_Commande  | dbo            | D_Ruesten    | PlanDatum      | datetime    |\\n| 177 | 3E_80_Commande  | dbo            | D_Ruesten    | Status         | smallint    |\\n| 178 | 3E_80_Commande  | dbo            | D_Ruesten    | Warten         | smallint    |\\n| 179 | 3E_80_Commande  | dbo            | D_Ruesten    | FreigProdStart | smallint    |\\n| 180 | 3E_80_Commande  | dbo            | D_Ruesten    | Prioritaet     | smallint    |\\n\\nThe following columns are in the D_Barcode_Trans table in the 3E_80_Commande database:\\n\\n|     | TABLE_CATALOG   | TABLE_SCHEMA   | TABLE_NAME      | COLUMN_NAME   | DATA_TYPE   |\\n|----:|:----------------|:---------------|:----------------|:--------------|:------------|\\n| 615 | 3E_80_Commande  | dbo            | D_Barcode_Trans | ID_A_Kopf     | nvarchar    |\\n| 616 | 3E_80_Commande  | dbo            | D_Barcode_Trans | Position      | smallint    |\\n| 617 | 3E_80_Commande  | dbo            | D_Barcode_Trans | Barcode_ID    | nvarchar    |\\n| 618 | 3E_80_Commande  | dbo            | D_Barcode_Trans | Version       | smallint    |\\n\\n===Response Guidelines \\n1. If the provided context is sufficient, please generate a valid SQL query without any explanations for the question. \\n2. If the provided context is almost sufficient but requires knowledge of a specific string in a particular column, please generate an intermediate SQL query to find the distinct strings in that column. Prepend the query with a comment saying intermediate_sql \\n3. If the provided context is insufficient, please explain why it can't be generated. \\n4. Please use the most relevant table(s). \\n5. If the question has been asked and answered before, please repeat the answer exactly as it was given before. \\n6. Ensure that the output SQL is T-SQL / Microsoft SQL Server-compliant and executable, and free of syntax errors. \\n\"}, {'role': 'user', 'content': 'liste moi les 10 dernieres commandes ?'}, {'role': 'assistant', 'content': \"SELECT TOP 10 * \\n        FROM A_kopf as cde\\n        INNER JOIN dbo.A_Vorgang AS DateSerie ON DateSerie.ID_A_Kopf = cde.ID\\n        WHERE DateSerie.Nummer = '_Cde en série'\\n        ORDER BY DateSerie.Datum DESC\"}, {'role': 'user', 'content': \"Liste moi les commandes bloquées aujourd'hui\"}, {'role': 'assistant', 'content': \"\\n    SELECT\\n        CONVERT(VARCHAR, Cde.AuNummer) AS [N° de Cde],\\n        CONVERT(VARCHAR, Cde.AuAlpha) AS [Extension],\\n        CONVERT(INT, NM.Feld2) AS [Nbr Menuiserie],\\n        Cde.AufStatus as [Status],\\n        Cde.Techniker AS [Technicien]\\n    FROM \\n        dbo.A_Kopf AS Cde\\n        INNER JOIN dbo.A_KopfFreie AS NM ON Cde.ID = NM.ID_A_Kopf\\n        INNER JOIN dbo.A_Vorgang AS DateSerie ON DateSerie.ID_A_Kopf = Cde.ID\\n    WHERE \\n        Cde.Techniker IS NOT NULL\\n        AND Cde.AufStatus IN ('BLOQ CC', 'BLOQ saisie')\\n        AND CONVERT(DATE, DateSerie.Datum) = CONVERT(DATE, GETDATE())\\n    \"}, {'role': 'user', 'content': 'Liste moi les commandes bloquées depuis toujours'}, {'role': 'assistant', 'content': \"\\n        SELECT\\n            CONVERT(VARCHAR, Cde.AuNummer) AS [N° de Cde],\\n            CONVERT(VARCHAR, Cde.AuAlpha) AS [Extension],\\n            CONVERT(INT, NM.Feld2) AS [Nbr Menuiserie],\\n            ADR.Firma as [Client],\\n            Cde.AufStatus as [Status],\\n            DATEDIFF(DAY, MIN(DateSerie.Datum), GETDATE()) AS [Diff jours - Saisie],\\n            DATEDIFF(DAY, NM.Feld5, GETDATE()) AS [Diff jours - Livraison],\\n            Cde.Techniker AS [Technicien]\\n        FROM \\n            dbo.A_Kopf AS Cde\\n            INNER JOIN dbo.A_Vorgang AS DateSerie ON DateSerie.ID_A_Kopf = Cde.ID\\n            INNER JOIN dbo.A_KopfFreie AS NM ON Cde.ID = NM.ID_A_Kopf\\n            INNER JOIN dbo.A_Adresse AS ADR ON Cde.ID = ADR.ID_A_Kopf\\n        WHERE \\n            Cde.AufStatus LIKE '%bloq%'\\n            AND ADR.Firma IS NOT NULL\\n            AND ADR.Firma NOT LIKE ''\\n\\n        GROUP BY\\n            Cde.AuNummer,\\n            Cde.AuAlpha,\\n            Cde.AufStatus,\\n            NM.Feld2,\\n            ADR.Firma,\\n            Cde.Techniker,\\n            NM.Feld5\\n        ORDER BY \\n            Cde.AufStatus ASC,\\n            [Diff jours - Saisie] DESC  -- Trier par statut puis par date la plus ancienne\\n        \"}, {'role': 'user', 'content': 'liste les commandes en préplanif'}, {'role': 'assistant', 'content': \"\\n    WITH LatestOrders AS (\\n        SELECT\\n            CONVERT(VARCHAR, Cde.AuNummer) AS [N° de Cde],\\n            CONVERT(VARCHAR, Cde.AuAlpha) AS [Extension],\\n            CONVERT(INT, NM.Feld2) AS [Nbr Menuiserie],\\n            Cde.Kommission as [Affaire],\\n            ADR.Firma as [Client],\\n            Cde.Techniker as [Technicien],\\n            DATEPART(iso_week, DateSerie.Datum) AS [Semaine entrée cde],\\n            DATEPART(iso_week, NM.Feld5) AS [Semaine Livraison],\\n            Cde.AufStatus as [Status],\\n            DATEDIFF(DAY, DateSerie.Datum, GETDATE()) AS [Diff jours - Date entrée],\\n            DATEDIFF(DAY, NM.Feld5, GETDATE()) AS [Diff jours - Livraison],\\n            ROW_NUMBER() OVER (PARTITION BY Cde.AuNummer, Cde.AuAlpha ORDER BY DateSerie.Datum DESC) as RowNum\\n        FROM \\n            dbo.A_Kopf AS Cde\\n            INNER JOIN dbo.A_Vorgang AS DateSerie ON DateSerie.ID_A_Kopf = Cde.ID\\n            INNER JOIN dbo.A_KopfFreie AS NM ON Cde.ID = NM.ID_A_Kopf\\n            INNER JOIN dbo.A_Adresse AS ADR ON Cde.ID = ADR.ID_A_Kopf\\n\\n        WHERE \\n            Cde.AufStatus IN ('Pré planif')\\n            AND Cde.AuAlpha NOT LIKE '%N%'\\n            AND Cde.AuAlpha NOT LIKE '%S%'\\n            AND Cde.AuAlpha NOT LIKE '%J%'\\n            AND Cde.AuAlpha NOT LIKE '%ECH%'\\n            AND Cde.AuAlpha NOT LIKE '%PFI%'\\n            AND Cde.AuAlpha NOT LIKE '%MKG%'\\n            AND Cde.AuAlpha NOT LIKE '%9%'\\n            AND Cde.AuAlpha NOT LIKE '%MUR%'\\n            AND NM.Feld2 > 0\\n            AND DateSerie.Nummer LIKE '%entrée cde%'\\n            AND DateSerie.Nummer NOT LIKE '%_CdeModifiée%'\\n            AND DateSerie.Nummer NOT LIKE '%_Mess. Client%'\\n            AND ADR.Firma NOT LIKE ''\\n    )\\n    SELECT \\n        [N° de Cde],\\n        [Extension],\\n        [Nbr Menuiserie],\\n        [Affaire],\\n        [Client],\\n        [Technicien],\\n        [Semaine entrée cde],\\n        [Semaine Livraison],\\n        [Status],\\n        [Diff jours - Date entrée],\\n        [Diff jours - Livraison]\\n    FROM LatestOrders\\n    WHERE RowNum = 1\\n    \"}, {'role': 'user', 'content': 'liste moi les commandes de février 2025 avec un montant ht supérieur à 2000 €'}, {'role': 'assistant', 'content': \"SELECT \\n        Cde.AuNummer AS [N° de Cde],\\n        Cde.AuAlpha AS [Extension],\\n        SUM(Cde.A_VorMwSt) AS [Montant HT]\\n    FROM \\n        dbo.A_Kopf AS Cde\\n        INNER JOIN dbo.A_Vorgang AS DateSerie ON DateSerie.ID_A_Kopf = Cde.ID\\n    WHERE \\n        CONVERT(DATE, DateSerie.Datum) >= '2025-02-01' \\n        AND CONVERT(DATE, DateSerie.Datum) < '2025-03-01'\\n        AND Cde.A_VorMwSt > 2000\\n        AND DateSerie.Nummer = '_Facture créée'\\n    GROUP BY \\n        Cde.AuNummer, Cde.AuAlpha;\"}, {'role': 'user', 'content': \"Liste moi les commandes contenant l'article 224 avec son montant ht\"}, {'role': 'assistant', 'content': \"\\n    SELECT\\n        CONVERT(VARCHAR, Cde.AuNummer) AS [N° de Cde],\\n        CONVERT(VARCHAR, Cde.AuAlpha) AS [Extension],\\n        Prix.Position AS [Position],\\n        Variante.Variante AS [Variante],\\n        CONVERT(DATE, DateSerie.Datum) AS [Date entrée cde],\\n        CAST(YEAR(DateSerie.Datum) AS INT) AS [Année],\\n        CAST(MONTH(DateSerie.Datum) AS INT) AS [Mois],\\n        Prix.Stueck AS [Qté],\\n        Cde.Kommission as [Affaire],\\n        Cde.AufStatus as [Status],\\n        Cde.Techniker AS [Technicien],\\n        SUM(Prix.VkNRabMalStk) AS [CA HT position]\\n    FROM \\n        dbo.P_Teil AS Variante\\n        INNER JOIN dbo.A_Kopf AS Cde ON Cde.ID = Variante.ID_A_Kopf\\n        INNER JOIN dbo.P_Kaufm AS Prix ON Cde.ID = Prix.ID_A_Kopf AND Variante.Position = Prix.Position\\n        INNER JOIN dbo.A_Vorgang AS DateSerie ON DateSerie.ID_A_Kopf = Variante.ID_A_Kopf\\n\\n    WHERE \\n        CONVERT(DATE, DateSerie.Datum) BETWEEN '{start_date_str}' AND '{end_date_str}'\\n        AND DateSerie.Nummer = '_Cde en série'\\n        AND Cde.AufStatus IN ('facturée')\\n        AND Variante.Variante = '224'\\n        AND Prix.Position > 0\\n    GROUP BY\\n        CONVERT(VARCHAR, Cde.AuNummer),\\n        CONVERT(VARCHAR, Cde.AuAlpha),\\n        Prix.Position,\\n        Variante.Variante,\\n        CONVERT(DATE, DateSerie.Datum),\\n        CAST(YEAR(DateSerie.Datum) AS INT),\\n        CAST(MONTH(DateSerie.Datum) AS INT),\\n        DateSerie.Datum,Prix.Stueck,Cde.Kommission,Cde.AufStatus,cde.techniker\\n    ORDER BY\\n        [Date entrée cde] DESC\\n    \"}, {'role': 'user', 'content': \"Quelles sont les commandes entrées aujourd'hui ?\"}, {'role': 'assistant', 'content': \"\\n    SELECT \\n        SUM([Nbr de chassis entrés aujourd'hui]) AS [Nbr de chassis entrés aujourd'hui]\\n    FROM (\\n        SELECT\\n            COUNT(1) * NM.Feld2 AS [Nbr de chassis entrés aujourd'hui]\\n        FROM\\n            dbo.A_Kopf AS Cde\\n            INNER JOIN dbo.A_Vorgang AS DateSerie ON DateSerie.ID_A_Kopf = Cde.ID\\n            INNER JOIN dbo.A_KopfFreie AS NM ON Cde.ID = NM.ID_A_Kopf\\n        WHERE\\n            CONVERT(DATE, DateSerie.Datum) = CONVERT(DATE, GETDATE())\\n            AND DateSerie.Nummer LIKE '%entrée cde%'\\n            AND Cde.AuAlpha NOT LIKE '%N%'\\n            AND Cde.AuAlpha NOT LIKE '%S%'\\n            AND Cde.AuAlpha NOT LIKE '%J%'\\n            AND Cde.AuAlpha NOT LIKE '%ECH%'\\n            AND Cde.AuAlpha NOT LIKE '%PFI%'\\n            AND Cde.AuAlpha NOT LIKE '%MKG%'\\n            AND Cde.AuAlpha NOT LIKE '%9%'\\n            AND Cde.AuAlpha NOT LIKE '%MUR%'\\n        GROUP BY NM.Feld2\\n    ) AS Subquery\\n\"}, {'role': 'user', 'content': \"Liste des commandes où l'article {article} est présent, avec ses dimensions et quantités entre {start_date_str} et {end_date_str} ?\"}, {'role': 'assistant', 'content': \"\\n        SELECT\\n            Paramgen.ArtikelID AS [Article],\\n            CONVERT(VARCHAR, Cde.AuNummer) AS [N° de Cde],\\n            Cde.AuAlpha AS Extension,\\n            Paramgen.Position AS [Position],\\n            Prix.Stueck AS Qté,        \\n            COUNT(Paramgen.ArtikelID) * Prix.Stueck AS [Nbr d'utilisations],\\n            SUM(Paramgen.Dim1) / 1000 * Prix.Stueck AS [1 (mL)],\\n            SUM(Paramgen.Dim2) / 1000 * Prix.Stueck AS [2 (mL)],\\n            SUM(Paramgen.Dim3) / 1000 * Prix.Stueck AS [3 (mL)],\\n            COUNT(Paramgen.ArtikelID) AS [Nbr d'utilisations par chassis]\\n        FROM \\n            dbo.P_Artikel AS Paramgen                \\n            LEFT JOIN dbo.A_Kopf AS Cde ON Cde.ID = Paramgen.ID_A_Kopf\\n            LEFT JOIN dbo.P_Kaufm AS Prix ON Cde.ID = Prix.ID_A_Kopf \\n                AND Paramgen.Position = Prix.Position \\n            INNER JOIN dbo.A_Vorgang AS DateSerie \\n                ON DateSerie.ID_A_Kopf = Paramgen.ID_A_Kopf\\n        WHERE \\n            CONVERT(DATE, DateSerie.Datum) BETWEEN '{start_date_str}' AND '{end_date_str}'\\n            AND DateSerie.Nummer = '_Cde en série'\\n            AND Paramgen.ArtikelID = '{article}'\\n        GROUP BY\\n            Cde.AuNummer,\\n            Paramgen.ArtikelID,\\n            Cde.AuAlpha,\\n            Prix.Stueck,\\n            Paramgen.Position\\n    \"}, {'role': 'user', 'content': 'Quelle est la somme des commandes en pré-planif ?'}, {'role': 'assistant', 'content': \"\\n    SELECT \\n        SUM(TotalPreplanif) AS [Total de préplanif]\\n    FROM (\\n        SELECT\\n            COUNT(1) * NM.Feld2 AS TotalPreplanif\\n        FROM \\n            dbo.A_Kopf AS Cde\\n            INNER JOIN dbo.A_KopfFreie AS NM ON Cde.ID = NM.ID_A_Kopf\\n            INNER JOIN (\\n                SELECT \\n                    ID_A_Kopf,\\n                    MAX(Datum) AS Datum,\\n                    MAX(Zeit) AS Zeit\\n                FROM \\n                    dbo.A_Vorgang\\n                GROUP BY \\n                    ID_A_Kopf\\n            ) AS DateSerie ON DateSerie.ID_A_Kopf = Cde.ID\\n        WHERE \\n            Cde.AufStatus = 'pré planif'\\n            AND Cde.AuAlpha NOT LIKE '%N%'\\n            AND Cde.AuAlpha NOT LIKE '%S%'\\n            AND Cde.AuAlpha NOT LIKE '%J%'\\n            AND Cde.AuAlpha NOT LIKE '%ECH%'\\n            AND Cde.AuAlpha NOT LIKE '%PFI%'\\n            AND Cde.AuAlpha NOT LIKE '%MKG%'\\n            AND Cde.AuAlpha NOT LIKE '%9%'\\n            AND Cde.AuAlpha NOT LIKE '%MUR%'\\n            AND NM.Feld2 > 0\\n        GROUP BY NM.Feld2\\n    ) AS Subquery\\n    \"}, {'role': 'user', 'content': \"Donne le nombre d'utilisation et le montant HT de la position utilisant la variante 224\"}, {'role': 'assistant', 'content': \"\\n    SELECT\\n        Variante.Variante AS [Variante],\\n        CAST(YEAR(DateSerie.Datum) AS INT) AS [Année],\\n        --CAST(MONTH(DateSerie.Datum) AS INT) AS [Mois],\\n        SUM(Prix.Stueck) AS [Nbr d'utilisations],\\n        --SUM(Cde.A_VorMwSt) AS [CA HT commande],\\n        SUM(Prix.VkNRabMalStk) AS [CA HT position]\\n    FROM \\n        dbo.P_Teil AS Variante\\n        INNER JOIN dbo.A_Kopf AS Cde ON Cde.ID = Variante.ID_A_Kopf\\n        INNER JOIN dbo.P_Kaufm AS Prix ON Cde.ID = Prix.ID_A_Kopf AND Variante.Position = Prix.Position\\n        INNER JOIN dbo.A_Vorgang AS DateSerie ON DateSerie.ID_A_Kopf = Variante.ID_A_Kopf\\n        --LEFT JOIN dbo.P_Artikel AS Paramgen ON Cde.ID = Paramgen.ID_A_Kopf AND Variante.Position = Paramgen.Position\\n    WHERE \\n        CONVERT(DATE, DateSerie.Datum) BETWEEN '{start_date_str}' AND '{end_date_str}'\\n        AND DateSerie.Nummer = '_Cde en série'\\n        AND Cde.AufStatus IN ('facturée')\\n        AND Variante.Variante = '224'\\n        AND Prix.Position > 0\\n    GROUP BY\\n        Variante.Variante,\\n        YEAR(DateSerie.Datum)\\n        --MONTH(DateSerie.Datum)\\n    ORDER BY\\n        [Année]\\n    \"}, {'role': 'user', 'content': 'liste moi les 10 dernieres commandes ?'}]\n",
      "LLM Response: SELECT TOP 10 * \n",
      "FROM dbo.A_Kopf \n",
      "ORDER BY DateCreated DESC;\n",
      "Extracted SQL: SELECT TOP 10 * \n",
      "FROM dbo.A_Kopf \n",
      "ORDER BY DateCreated DESC;\n",
      "SELECT TOP 10 * \n",
      "FROM dbo.A_Kopf \n",
      "ORDER BY DateCreated DESC;\n",
      "Couldn't run sql:  (pyodbc.ProgrammingError) ('42S22', \"[42S22] [Microsoft][ODBC Driver 17 for SQL Server][SQL Server]Nom de colonne non valide\\xa0: 'DateCreated'. (207) (SQLExecDirectW)\")\n",
      "[SQL: SELECT TOP 10 * \n",
      "FROM dbo.A_Kopf \n",
      "ORDER BY DateCreated DESC;]\n",
      "(Background on this error at: https://sqlalche.me/e/20/f405)\n",
      "None\n"
     ]
    }
   ],
   "source": [
    "reponse = vn.ask(\"liste moi les 10 dernieres commandes ?\")\n",
    "print(reponse)\n"
   ]
  },
  {
   "cell_type": "code",
   "execution_count": 14,
   "metadata": {},
   "outputs": [
    {
     "name": "stdout",
     "output_type": "stream",
     "text": [
      "Your app is running at:\n",
      "http://localhost:8084\n",
      " * Serving Flask app 'vanna.flask'\n",
      " * Debug mode: on\n",
      "None\n",
      "None\n",
      "None\n",
      "None\n",
      "None\n",
      "None\n"
     ]
    }
   ],
   "source": [
    "from vanna.flask import VannaFlaskApp\n",
    "VannaFlaskApp(vn).run()"
   ]
  }
 ],
 "metadata": {
  "kernelspec": {
   "display_name": ".venv",
   "language": "python",
   "name": "python3"
  },
  "language_info": {
   "codemirror_mode": {
    "name": "ipython",
    "version": 3
   },
   "file_extension": ".py",
   "mimetype": "text/x-python",
   "name": "python",
   "nbconvert_exporter": "python",
   "pygments_lexer": "ipython3",
   "version": "3.13.1"
  }
 },
 "nbformat": 4,
 "nbformat_minor": 2
}
